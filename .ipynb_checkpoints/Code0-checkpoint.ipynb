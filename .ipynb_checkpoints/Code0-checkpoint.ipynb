{
 "cells": [
  {
   "cell_type": "markdown",
   "id": "eb0c236c",
   "metadata": {},
   "source": [
    "This is my first python code."
   ]
  },
  {
   "cell_type": "code",
   "execution_count": 3,
   "id": "1760faf2",
   "metadata": {},
   "outputs": [],
   "source": [
    "x=10\n",
    "y=2\n",
    "z=x+y"
   ]
  },
  {
   "cell_type": "code",
   "execution_count": 4,
   "id": "1cdbd6a2",
   "metadata": {},
   "outputs": [
    {
     "data": {
      "text/plain": [
       "12"
      ]
     },
     "execution_count": 4,
     "metadata": {},
     "output_type": "execute_result"
    }
   ],
   "source": [
    "z"
   ]
  },
  {
   "cell_type": "code",
   "execution_count": 5,
   "id": "6c078f30",
   "metadata": {},
   "outputs": [],
   "source": [
    "w=x-y"
   ]
  },
  {
   "cell_type": "code",
   "execution_count": 6,
   "id": "17af9371",
   "metadata": {},
   "outputs": [
    {
     "data": {
      "text/plain": [
       "8"
      ]
     },
     "execution_count": 6,
     "metadata": {},
     "output_type": "execute_result"
    }
   ],
   "source": [
    "w"
   ]
  },
  {
   "cell_type": "markdown",
   "id": "94e8af13",
   "metadata": {},
   "source": [
    "Lists"
   ]
  },
  {
   "cell_type": "code",
   "execution_count": 8,
   "id": "6cb90432",
   "metadata": {},
   "outputs": [],
   "source": [
    "names=[\"Qing\", \"Françoise\", \"Raúl\", \"Bjork\",\"Marie\"]\n",
    "ages=[32,33,28,30,29]\n",
    "country=[\"China\", \"Senegal\", \"España\", \"Norway\",\"Korea\"]\n",
    "education=[\"Bach\", \"Bach\", \"Master\", \"PhD\",\"PhD\"]"
   ]
  },
  {
   "cell_type": "code",
   "execution_count": 9,
   "id": "878f5ccd",
   "metadata": {},
   "outputs": [
    {
     "data": {
      "text/plain": [
       "32"
      ]
     },
     "execution_count": 9,
     "metadata": {},
     "output_type": "execute_result"
    }
   ],
   "source": [
    "ages[0]"
   ]
  },
  {
   "cell_type": "code",
   "execution_count": 10,
   "id": "eb40e7a5",
   "metadata": {},
   "outputs": [
    {
     "data": {
      "text/plain": [
       "[33, 28, 30]"
      ]
     },
     "execution_count": 10,
     "metadata": {},
     "output_type": "execute_result"
    }
   ],
   "source": [
    "ages[1:-1]"
   ]
  },
  {
   "cell_type": "code",
   "execution_count": 12,
   "id": "fc603f1b",
   "metadata": {},
   "outputs": [
    {
     "data": {
      "text/plain": [
       "[32, 33, 28]"
      ]
     },
     "execution_count": 12,
     "metadata": {},
     "output_type": "execute_result"
    }
   ],
   "source": [
    "ages[:-2]"
   ]
  },
  {
   "cell_type": "code",
   "execution_count": null,
   "id": "a3d5a71c",
   "metadata": {},
   "outputs": [],
   "source": []
  },
  {
   "cell_type": "code",
   "execution_count": null,
   "id": "4915ec8f",
   "metadata": {},
   "outputs": [],
   "source": []
  }
 ],
 "metadata": {
  "kernelspec": {
   "display_name": "Python 3 (ipykernel)",
   "language": "python",
   "name": "python3"
  },
  "language_info": {
   "codemirror_mode": {
    "name": "ipython",
    "version": 3
   },
   "file_extension": ".py",
   "mimetype": "text/x-python",
   "name": "python",
   "nbconvert_exporter": "python",
   "pygments_lexer": "ipython3",
   "version": "3.9.7"
  }
 },
 "nbformat": 4,
 "nbformat_minor": 5
}
